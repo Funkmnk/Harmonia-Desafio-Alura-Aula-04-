{
  "nbformat": 4,
  "nbformat_minor": 0,
  "metadata": {
    "colab": {
      "provenance": [],
      "authorship_tag": "ABX9TyNXFJVY4CAHm3oMuPzEm5TH",
      "include_colab_link": true
    },
    "kernelspec": {
      "name": "python3",
      "display_name": "Python 3"
    },
    "language_info": {
      "name": "python"
    }
  },
  "cells": [
    {
      "cell_type": "markdown",
      "metadata": {
        "id": "view-in-github",
        "colab_type": "text"
      },
      "source": [
        "<a href=\"https://colab.research.google.com/github/Funkmnk/Harmonia-Desafio-Alura-Aula-04-/blob/main/Harmonia%20Chatbot.ipynb\" target=\"_parent\"><img src=\"https://colab.research.google.com/assets/colab-badge.svg\" alt=\"Open In Colab\"/></a>"
      ]
    },
    {
      "cell_type": "markdown",
      "source": [
        "## Caso tenha dificuldade para iniciar o modelo, acesse o tutorial abaixo:\n",
        "\n",
        "- [Como setar sua API Key](https://youtu.be/9IiWoiBhWiA?si=6GioB5rvKdbo2idy&t=853)"
      ],
      "metadata": {
        "id": "FAxDQicjnXW-"
      }
    },
    {
      "cell_type": "code",
      "execution_count": 9,
      "metadata": {
        "colab": {
          "base_uri": "https://localhost:8080/"
        },
        "id": "GPlzXNlgX61I",
        "outputId": "9a9a9d5b-8214-4fc5-bfbb-d61e69100cef"
      },
      "outputs": [
        {
          "output_type": "stream",
          "name": "stderr",
          "text": [
            "[nltk_data] Downloading package punkt to /root/nltk_data...\n",
            "[nltk_data]   Package punkt is already up-to-date!\n",
            "[nltk_data] Downloading package stopwords to /root/nltk_data...\n",
            "[nltk_data]   Package stopwords is already up-to-date!\n"
          ]
        },
        {
          "output_type": "stream",
          "name": "stdout",
          "text": [
            "Olá! Sou seu assistente de organização. O que está atrapalhando sua organização hoje?\n",
            "-> sair\n",
            "Tem certeza que deseja sair? (sim/não) sim\n",
            "Até mais! Espero ter ajudado a organizar sua vida.\n"
          ]
        }
      ],
      "source": [
        "!pip install -q -U google-generativeai nltk\n",
        "\n",
        "import google.generativeai as genai\n",
        "import nltk\n",
        "\n",
        "# Download dos recursos do NLTK (apenas na primeira execução)\n",
        "nltk.download('punkt')\n",
        "nltk.download('stopwords')\n",
        "\n",
        "# Configuração da API do Google\n",
        "from google.colab import userdata\n",
        "GOOGLE_API_KEY = userdata.get(\"SECRET_KEY\") ##Sua API KEY deve estar salva como SECRET_KEY\n",
        "genai.configure(api_key=GOOGLE_API_KEY)\n",
        "\n",
        "generation_config = {\n",
        "    \"candidate_count\": 1,\n",
        "    \"temperature\": 0.9,\n",
        "}\n",
        "\n",
        "model = genai.GenerativeModel(\n",
        "    model_name='gemini-1.0-pro',\n",
        "    generation_config=generation_config,\n",
        ")\n",
        "\n",
        "# Funções auxiliares para processamento de linguagem natural\n",
        "def preprocessar_texto(texto):\n",
        "    \"\"\"Remove stop words e pontuação do texto.\"\"\"\n",
        "    tokens = nltk.word_tokenize(texto)\n",
        "    stop_words = nltk.corpus.stopwords.words('portuguese')\n",
        "    tokens = [t for t in tokens if t.lower() not in stop_words and t.isalnum()]\n",
        "    return ' '.join(tokens)\n",
        "\n",
        "def similaridade_semantica(texto1, texto2):\n",
        "    \"\"\"Calcula a similaridade semântica entre dois textos.\"\"\"\n",
        "    texto1 = preprocessar_texto(texto1)\n",
        "    texto2 = preprocessar_texto(texto2)\n",
        "    return nltk.edit_distance(texto1, texto2)\n",
        "\n",
        "# Função para gerar respostas com o Gemini\n",
        "def gerar_resposta(prompt, history=[]):\n",
        "    \"\"\"Gera uma resposta concisa usando o Gemini.\"\"\"\n",
        "    chat = model.start_chat(history=history)\n",
        "    response = chat.send_message(prompt)\n",
        "    return response.text.strip(), chat.history\n",
        "\n",
        "print(\"Olá! Sou seu assistente de organização. O que está atrapalhando sua organização hoje?\")\n",
        "\n",
        "historico = []\n",
        "\n",
        "while True:\n",
        "    problema = input(\"-> \")\n",
        "\n",
        "    # Verificar as palavras-chave de saída ANTES de atualizar o histórico\n",
        "    if problema.lower() in [\"sair\", \"quit\", \"exit\"]:\n",
        "        confirmacao = input(\"Tem certeza que deseja sair? (sim/não) \")\n",
        "        if confirmacao.lower() == \"sim\":\n",
        "            print(\"Até mais! Espero ter ajudado a organizar sua vida.\")\n",
        "            break\n",
        "        else:\n",
        "            continue # Volta ao início do loop\n",
        "\n",
        "    # Pré-processar o problema do usuário\n",
        "    problema_processado = preprocessar_texto(problema)\n",
        "\n",
        "    historico = gerar_resposta(problema_processado, historico)[1]  # Usar problema processado\n",
        "\n",
        "    # Investigar o problema e oferecer soluções\n",
        "    resposta, historico = gerar_resposta(f\"Considerando a última resposta, faça uma pergunta para entender melhor o problema.\", historico)\n",
        "    print(f\"-> {resposta}\")\n",
        "    detalhe = input(\"-> \")\n",
        "\n",
        "    # Verificar as palavras-chave de saída ANTES de processar o detalhe\n",
        "    if detalhe.lower() in [\"sair\", \"quit\", \"exit\"]:\n",
        "        confirmacao = input(\"Tem certeza que deseja sair? (sim/não) \")\n",
        "        if confirmacao.lower() == \"sim\":\n",
        "            print(\"Até mais! Espero ter ajudado a organizar sua vida.\")\n",
        "            break\n",
        "        else:\n",
        "            continue # Volta ao início do loop\n",
        "\n",
        "    # Pré-processar o detalhe fornecido pelo usuário\n",
        "    detalhe_processado = preprocessar_texto(detalhe)\n",
        "\n",
        "    historico = gerar_resposta(detalhe_processado, historico)[1]  # Usar detalhe processado\n",
        "\n",
        "    # Oferecer uma solução com base na resposta do usuário\n",
        "    resposta, historico = gerar_resposta(f\"Pensando na resposta anterior, qual método ou dica de organização você recomendaria?\", historico)\n",
        "    print(f\"-> {resposta} \\n\")"
      ]
    }
  ]
}